{
  "cells": [
    {
      "cell_type": "markdown",
      "metadata": {
        "id": "tKHEO_t59k4V"
      },
      "source": []
    },
    {
      "cell_type": "code",
      "execution_count": 1,
      "metadata": {
        "id": "pL4tr3Aa1oX7"
      },
      "outputs": [],
      "source": [
        "import pandas as pd\n",
        "import numpy as np\n",
        "import matplotlib.pyplot as plt\n",
        "import tensorflow as tf"
      ]
    },
    {
      "cell_type": "markdown",
      "metadata": {
        "id": "KaZe7fFMTsJf"
      },
      "source": [
        "Data "
      ]
    },
    {
      "cell_type": "code",
      "execution_count": 2,
      "metadata": {
        "id": "zlT-U4c8VJoR",
        "colab": {
          "base_uri": "https://localhost:8080/"
        },
        "outputId": "15792242-911d-42b8-944c-f01edae6dd17"
      },
      "outputs": [
        {
          "output_type": "stream",
          "name": "stdout",
          "text": [
            "Downloading data from https://storage.googleapis.com/tensorflow/tf-keras-datasets/imdb.npz\n",
            "17464789/17464789 [==============================] - 0s 0us/step\n",
            "Downloading data from https://storage.googleapis.com/tensorflow/tf-keras-datasets/imdb_word_index.json\n",
            "1641221/1641221 [==============================] - 0s 0us/step\n"
          ]
        }
      ],
      "source": [
        "(x_train, y_train), (x_test, y_test) = tf.keras.datasets.imdb.load_data(num_words=4000)\n",
        "\n",
        "word_index = tf.keras.datasets.imdb.get_word_index()\n",
        "index2word = dict((i + 3, word) for (word, i) in word_index.items())\n",
        "index2word[0] = '[pad]'\n",
        "index2word[1] = '[bos]'\n",
        "index2word[2] = '[oov]'\n",
        "x_train = np.array([' '.join([index2word[idx] for idx in text]) for text in x_train])\n",
        "x_test = np.array([' '.join([index2word[idx] for idx in text]) for text in x_test])"
      ]
    },
    {
      "cell_type": "code",
      "execution_count": 3,
      "metadata": {
        "colab": {
          "base_uri": "https://localhost:8080/"
        },
        "id": "mH1_YpsTbD6d",
        "outputId": "70bb8b83-553c-4690-b0da-3a33ff577b9b"
      },
      "outputs": [
        {
          "output_type": "execute_result",
          "data": {
            "text/plain": [
              "88584"
            ]
          },
          "metadata": {},
          "execution_count": 3
        }
      ],
      "source": [
        "len(word_index)"
      ]
    },
    {
      "cell_type": "code",
      "execution_count": 4,
      "metadata": {
        "colab": {
          "base_uri": "https://localhost:8080/",
          "height": 123
        },
        "id": "hkHfJMmrbEDO",
        "outputId": "a0cc6c18-69a5-4f4d-fb85-d4c0b2647847"
      },
      "outputs": [
        {
          "output_type": "execute_result",
          "data": {
            "text/plain": [
              "\"[bos] this film was just brilliant casting location scenery story direction [oov] really suited the part they played and you could just imagine being there robert [oov] is an amazing actor and now the same being director [oov] father came from the same [oov] island as myself so i loved the fact there was a real connection with this film the witty [oov] throughout the film were great it was just brilliant so much that i bought the film as soon as it was released for [oov] and would recommend it to everyone to watch and the fly [oov] was amazing really cried at the end it was so sad and you know what they say if you cry at a film it must have been good and this definitely was also [oov] to the two little [oov] that played the [oov] of norman and paul they were just brilliant children are often left out of the [oov] list i think because the stars that play them all grown up are such a big [oov] for the whole film but these children are amazing and should be [oov] for what they have done don't you think the whole story was so lovely because it was true and was [oov] life after all that was [oov] with us all\""
            ],
            "application/vnd.google.colaboratory.intrinsic+json": {
              "type": "string"
            }
          },
          "metadata": {},
          "execution_count": 4
        }
      ],
      "source": [
        "x_train[0]"
      ]
    },
    {
      "cell_type": "code",
      "execution_count": 5,
      "metadata": {
        "colab": {
          "base_uri": "https://localhost:8080/"
        },
        "id": "HykRqGtSg9uH",
        "outputId": "9d069646-7787-4aa5-87d6-550c87f62a08"
      },
      "outputs": [
        {
          "output_type": "stream",
          "name": "stdout",
          "text": [
            "3998\n"
          ]
        }
      ],
      "source": [
        "vocabulary = list()\n",
        "for text in x_train:\n",
        "  tokens = text.split()\n",
        "  vocabulary.extend(tokens)\n",
        "\n",
        "vocabulary = set(vocabulary)\n",
        "print(len(vocabulary))"
      ]
    },
    {
      "cell_type": "code",
      "execution_count": 6,
      "metadata": {
        "colab": {
          "base_uri": "https://localhost:8080/"
        },
        "id": "hGRy9OHDg-mu",
        "outputId": "de60f20a-a8dd-450f-92a2-4e75a5e8b513"
      },
      "outputs": [
        {
          "output_type": "stream",
          "name": "stderr",
          "text": [
            "100%|██████████| 25000/25000 [05:43<00:00, 72.76it/s]\n",
            "100%|██████████| 25000/25000 [05:30<00:00, 75.75it/s]\n"
          ]
        }
      ],
      "source": [
        "from tqdm import tqdm\n",
        "\n",
        "x_train_binary = list()\n",
        "x_test_binary = list()\n",
        "\n",
        "for text in tqdm(x_train):\n",
        "  tokens = text.split()\n",
        "  binary_vector = list()\n",
        "  for vocab_token in vocabulary:\n",
        "    if vocab_token in tokens:\n",
        "      binary_vector.append(1)\n",
        "    else:\n",
        "      binary_vector.append(0)\n",
        "  x_train_binary.append(binary_vector)\n",
        "\n",
        "x_train_binary = np.array(x_train_binary)\n",
        "\n",
        "for text in tqdm(x_test):\n",
        "  tokens = text.split()\n",
        "  binary_vector = list()\n",
        "  for vocab_token in vocabulary:\n",
        "    if vocab_token in tokens:\n",
        "      binary_vector.append(1)\n",
        "    else:\n",
        "      binary_vector.append(0)\n",
        "  x_test_binary.append(binary_vector)\n",
        "\n",
        "x_test_binary = np.array(x_test_binary)"
      ]
    },
    {
      "cell_type": "markdown",
      "metadata": {
        "id": "F6SCFb_sbP7Q"
      },
      "source": [
        "##Class BernoulliNaiveBayes"
      ]
    },
    {
      "cell_type": "code",
      "execution_count": 7,
      "metadata": {
        "id": "c9KHUwMudsCq"
      },
      "outputs": [],
      "source": [
        "class BernoulliNaiveBayes:\n",
        "    def __init__(self):\n",
        "        self.classes = None \n",
        "        self.likelihoods = None\n",
        "        self.p_of_class = None\n",
        "        \n",
        "    def fit(self, X, y):\n",
        "        n_reviews, n_words = X.shape \n",
        "        self.classes = np.unique(y) #classes=[0(neg),1(pos)]\n",
        "        n_classes = len(self.classes)\n",
        "        \n",
        "        self.p_of_class = np.zeros(n_classes)\n",
        "        self.likelihoods = np.zeros((n_classes, n_words))\n",
        "        \n",
        "        for c in self.classes:\n",
        "            X_c = X[y == c]\n",
        "            self.p_of_class[c] = X_c.shape[0] / float(n_reviews) #p_of_class=[P(neg)=1/2,P(pos)=1/2]\n",
        "            for f in range(n_words):\n",
        "                word_count = X_c[:, f].sum() #Syxnothta kathe word se ola ta reviews ana kathgoria neg/pos\n",
        "                self.likelihoods[c, f] = (word_count + 1) / (X_c.shape[0] + 2)#Pithanothtes kathe word gia neg kai pos xrhshmopoiwntas ektimhtria Laplace\n",
        "                \n",
        "    def predict(self, X):\n",
        "        n_reviews, _ = X.shape\n",
        "        y_pred = np.zeros(n_reviews)\n",
        "        for i in range(n_reviews):\n",
        "            finals = []\n",
        "            for c in self.classes:\n",
        "                plog= np.log(self.p_of_class[c])#log(P(c))\n",
        "                likelihood = np.sum(np.log(self.likelihoods[c, X[i] == 1])) # Sum pithanothtwn ton words tou review \n",
        "                final = plog + likelihood\n",
        "                finals.append(final)\n",
        "            y_pred[i] = self.classes[np.argmax(finals)]\n",
        "        return y_pred"
      ]
    },
    {
      "cell_type": "code",
      "execution_count": 8,
      "metadata": {
        "id": "eh2nYd22d2nZ",
        "colab": {
          "base_uri": "https://localhost:8080/"
        },
        "outputId": "1ac7c74a-c303-4a73-fc24-8d0e11be527f"
      },
      "outputs": [
        {
          "output_type": "stream",
          "name": "stdout",
          "text": [
            "              precision    recall  f1-score   support\n",
            "\n",
            "           0       0.79      0.90      0.84     12500\n",
            "           1       0.88      0.76      0.82     12500\n",
            "\n",
            "    accuracy                           0.83     25000\n",
            "   macro avg       0.84      0.83      0.83     25000\n",
            "weighted avg       0.84      0.83      0.83     25000\n",
            "\n"
          ]
        }
      ],
      "source": [
        "b = BernoulliNaiveBayes()\n",
        "b.fit(x_train_binary, y_train)\n",
        "from sklearn.metrics import classification_report\n",
        "print(classification_report(y_test, b.predict(x_test_binary)))\n"
      ]
    },
    {
      "cell_type": "markdown",
      "metadata": {
        "id": "y0ts8C47HKCx"
      },
      "source": [
        "Dev var"
      ]
    },
    {
      "cell_type": "code",
      "execution_count": 9,
      "metadata": {
        "id": "J4iE7cG--TVa"
      },
      "outputs": [],
      "source": [
        "from sklearn.model_selection import train_test_split\n",
        "# split rest of the train data into train and dev\n",
        "x_train_binary, x_dev_binary, y_train, y_dev = train_test_split(x_train_binary, y_train,\n",
        "                                                                test_size=0.3)"
      ]
    },
    {
      "cell_type": "markdown",
      "metadata": {
        "id": "TfFb_VjsHOWb"
      },
      "source": [
        "Diagram "
      ]
    },
    {
      "cell_type": "code",
      "execution_count": 10,
      "metadata": {
        "id": "cRNRs1PXoSQy",
        "colab": {
          "base_uri": "https://localhost:8080/",
          "height": 439
        },
        "outputId": "3e2ef1e1-ac11-4467-9836-2f687a62631e"
      },
      "outputs": [
        {
          "output_type": "stream",
          "name": "stdout",
          "text": [
            "(3500, 3998)\n",
            "(3500,)\n",
            "(7000, 3998)\n",
            "(7000,)\n",
            "(10500, 3998)\n",
            "(10500,)\n",
            "(14000, 3998)\n",
            "(14000,)\n",
            "(17500, 3998)\n",
            "(17500,)\n"
          ]
        },
        {
          "output_type": "display_data",
          "data": {
            "text/plain": [
              "<Figure size 432x288 with 1 Axes>"
            ],
            "image/png": "[encoded data removed]"
          },
          "metadata": {
            "needs_background": "light"
          }
        }
      ],
      "source": [
        "from sklearn.metrics import accuracy_score\n",
        "def custom_learning_curve(x_train, y_train,\n",
        "                          x_val, y_val, x_test, y_test,\n",
        "                          n_splits):\n",
        "  \n",
        "  split_size = int(len(x_train) / n_splits)\n",
        "  x_splits = np.split(x_train, n_splits) # must be equal division\n",
        "  y_splits = np.split(y_train, n_splits)\n",
        "  train_accuracies = list()\n",
        "  val_accuracies = list()\n",
        "  test_accuracies = list()\n",
        "  curr_x = x_splits[0]\n",
        "  print(curr_x.shape)\n",
        "  curr_y = y_splits[0]\n",
        "  print(curr_y.shape)\n",
        "  b = BernoulliNaiveBayes()\n",
        "  b.fit(curr_x, curr_y)\n",
        "  train_accuracies.append(accuracy_score(curr_y, \n",
        "                                         b.predict(curr_x)))\n",
        "  \n",
        "  val_accuracies.append(accuracy_score(y_val, b.predict(x_val)))\n",
        "  test_accuracies.append(accuracy_score(y_test, b.predict(x_test)))\n",
        "\n",
        "  for i in range(1, len(x_splits)):\n",
        "    b = BernoulliNaiveBayes()\n",
        "    curr_x = np.concatenate((curr_x, x_splits[i]), axis=0)\n",
        "    print(curr_x.shape)\n",
        "    curr_y = np.concatenate((curr_y, y_splits[i]), axis=0)\n",
        "    print(curr_y.shape)\n",
        "    b.fit(curr_x, curr_y)\n",
        "\n",
        "    train_accuracies.append(accuracy_score(curr_y, \n",
        "                                           b.predict(curr_x)))\n",
        "    \n",
        "    val_accuracies.append(accuracy_score(y_val, b.predict(x_val)))\n",
        "\n",
        "    test_accuracies.append(accuracy_score(y_test, b.predict(x_test)))\n",
        "\n",
        "  plt.plot(list(range(split_size, len(x_train) + split_size, \n",
        "                      split_size)), train_accuracies, 'o-', color=\"b\",\n",
        "             label=\"Training accuracy\")\n",
        "  plt.plot(list(range(split_size, len(x_train) + split_size, \n",
        "                      split_size)), val_accuracies, 'o-', color=\"green\",\n",
        "           label=\"Validation accuracy\")\n",
        "  plt.plot(list(range(split_size, len(x_train) + split_size, \n",
        "                      split_size)), test_accuracies, 'o-', color=\"red\",\n",
        "           label=\"Testing accuracy\")\n",
        "  plt.legend(loc=\"lower right\")\n",
        "  plt.show()\n",
        "\n",
        "custom_learning_curve(x_train=x_train_binary , y_train=y_train,\n",
        "                      x_val=x_dev_binary, y_val=y_dev, x_test=x_test_binary,\n",
        "                      y_test=y_test, n_splits=5)"
      ]
    },
    {
      "cell_type": "markdown",
      "source": [
        "## BernoulliNB from sklearn\n"
      ],
      "metadata": {
        "id": "i4DeDlJrAa9M"
      }
    },
    {
      "cell_type": "code",
      "source": [
        "from sklearn.naive_bayes import BernoulliNB\n",
        "\n",
        "nb = BernoulliNB()\n",
        "nb.fit(x_train_binary, y_train)\n",
        "\n",
        "\n",
        "print(classification_report(y_test, nb.predict(x_test_binary)))"
      ],
      "metadata": {
        "id": "o12jqkaTAaSd",
        "colab": {
          "base_uri": "https://localhost:8080/"
        },
        "outputId": "0226e6af-1a2c-4834-bc3b-e31e343d069b"
      },
      "execution_count": 11,
      "outputs": [
        {
          "output_type": "stream",
          "name": "stdout",
          "text": [
            "              precision    recall  f1-score   support\n",
            "\n",
            "           0       0.84      0.85      0.84     12500\n",
            "           1       0.85      0.84      0.84     12500\n",
            "\n",
            "    accuracy                           0.84     25000\n",
            "   macro avg       0.84      0.84      0.84     25000\n",
            "weighted avg       0.84      0.84      0.84     25000\n",
            "\n"
          ]
        }
      ]
    },
    {
      "cell_type": "markdown",
      "source": [
        "Curves"
      ],
      "metadata": {
        "id": "nn-TbhM-C_A1"
      }
    },
    {
      "cell_type": "code",
      "source": [
        "from sklearn.metrics import accuracy_score\n",
        "def custom_learning_curve(x_train, y_train,\n",
        "                          x_val, y_val, x_test, y_test,\n",
        "                          n_splits):\n",
        "  \n",
        "  split_size = int(len(x_train) / n_splits)\n",
        "  x_splits = np.split(x_train, n_splits) # must be equal division\n",
        "  y_splits = np.split(y_train, n_splits)\n",
        "  train_accuracies = list()\n",
        "  val_accuracies = list()\n",
        "  test_accuracies = list()\n",
        "  curr_x = x_splits[0]\n",
        "  print(curr_x.shape)\n",
        "  curr_y = y_splits[0]\n",
        "  print(curr_y.shape)\n",
        "  nb = BernoulliNB()\n",
        "  nb.fit(curr_x, curr_y)\n",
        "  train_accuracies.append(accuracy_score(curr_y, \n",
        "                                         nb.predict(curr_x)))\n",
        "  \n",
        "  val_accuracies.append(accuracy_score(y_val, nb.predict(x_val)))\n",
        "  test_accuracies.append(accuracy_score(y_test, nb.predict(x_test)))\n",
        "\n",
        "  for i in range(1, len(x_splits)):\n",
        "    nb = BernoulliNB()\n",
        "    curr_x = np.concatenate((curr_x, x_splits[i]), axis=0)\n",
        "    print(curr_x.shape)\n",
        "    curr_y = np.concatenate((curr_y, y_splits[i]), axis=0)\n",
        "    print(curr_y.shape)\n",
        "    nb.fit(curr_x, curr_y)\n",
        "\n",
        "    train_accuracies.append(accuracy_score(curr_y, \n",
        "                                           nb.predict(curr_x)))\n",
        "    \n",
        "    val_accuracies.append(accuracy_score(y_val, nb.predict(x_val)))\n",
        "\n",
        "    test_accuracies.append(accuracy_score(y_test, nb.predict(x_test)))\n",
        "\n",
        "  plt.plot(list(range(split_size, len(x_train) + split_size, \n",
        "                      split_size)), train_accuracies, 'o-', color=\"b\",\n",
        "             label=\"Training accuracy\")\n",
        "  plt.plot(list(range(split_size, len(x_train) + split_size, \n",
        "                      split_size)), val_accuracies, 'o-', color=\"green\",\n",
        "           label=\"Validation accuracy\")\n",
        "  plt.plot(list(range(split_size, len(x_train) + split_size, \n",
        "                      split_size)), test_accuracies, 'o-', color=\"red\",\n",
        "           label=\"Testing accuracy\")\n",
        "  plt.legend(loc=\"lower right\")\n",
        "  plt.show()\n",
        "\n",
        "custom_learning_curve(x_train=x_train_binary , y_train=y_train,\n",
        "                      x_val=x_dev_binary, y_val=y_dev, x_test=x_test_binary,\n",
        "                      y_test=y_test, n_splits=5)"
      ],
      "metadata": {
        "id": "MhQ-Ny4xB9mk",
        "colab": {
          "base_uri": "https://localhost:8080/",
          "height": 439
        },
        "outputId": "1ad0062e-2efd-4c91-e879-bc015068c1be"
      },
      "execution_count": 12,
      "outputs": [
        {
          "output_type": "stream",
          "name": "stdout",
          "text": [
            "(3500, 3998)\n",
            "(3500,)\n",
            "(7000, 3998)\n",
            "(7000,)\n",
            "(10500, 3998)\n",
            "(10500,)\n",
            "(14000, 3998)\n",
            "(14000,)\n",
            "(17500, 3998)\n",
            "(17500,)\n"
          ]
        },
        {
          "output_type": "display_data",
          "data": {
            "text/plain": [
              "<Figure size 432x288 with 1 Axes>"
            ],
            "image/png": "[encoded data removed]"
          },
          "metadata": {
            "needs_background": "light"
          }
        }
      ]
    },
    {
      "cell_type": "markdown",
      "source": [
        "##Class Logistic Regression Stochastic Gradient Ascent with λ Regularization"
      ],
      "metadata": {
        "id": "AzjzSZVIqrl2"
      }
    },
    {
      "cell_type": "code",
      "execution_count": 13,
      "metadata": {
        "id": "qhcZFRNrZsCJ"
      },
      "outputs": [],
      "source": [
        "class LogisticRegressionSGA:\n",
        "    def __init__(self, h=0.01, max_iter=200,lamb=0.01):\n",
        "        self.h = h\n",
        "        self.max_iter = max_iter\n",
        "        self.lamb=lamb\n",
        "\n",
        "    def sigmoid(self, z):\n",
        "        return 1 / (1 + np.exp(-z))\n",
        "    \n",
        "    def fit(self, X, y):\n",
        "        self.w = np.zeros(X.shape[1])#vector w\n",
        "        for i in range(self.max_iter):\n",
        "            z = np.dot(X, self.w)#w*x\n",
        "            y_pred = self.sigmoid(z)#P(c|x+) with sigmoid\n",
        "            gradient = np.mean((y-y_pred)*X.T, axis=1)+(self.lamb * self.w **2)#calculate ∇l(w)+ regularization\n",
        "            self.w += self.h * gradient #η*∇l(w) and we add(+) w because is an Ascent \n",
        "    \n",
        "    def predict(self, X):\n",
        "        predictions = []\n",
        "        for x in X:\n",
        "            y_pred = self.sigmoid(np.dot(x, self.w))\n",
        "            predictions.append(1 if y_pred >= 0.5 else 0)\n",
        "        return predictions"
      ]
    },
    {
      "cell_type": "code",
      "execution_count": 14,
      "metadata": {
        "id": "g55ifOXVcO7y",
        "colab": {
          "base_uri": "https://localhost:8080/",
          "height": 439
        },
        "outputId": "c6f2e526-8ad8-450c-baa6-f8f23e060459"
      },
      "outputs": [
        {
          "output_type": "stream",
          "name": "stdout",
          "text": [
            "(3500, 3998)\n",
            "(3500,)\n",
            "(7000, 3998)\n",
            "(7000,)\n",
            "(10500, 3998)\n",
            "(10500,)\n",
            "(14000, 3998)\n",
            "(14000,)\n",
            "(17500, 3998)\n",
            "(17500,)\n"
          ]
        },
        {
          "output_type": "display_data",
          "data": {
            "text/plain": [
              "<Figure size 432x288 with 1 Axes>"
            ],
            "image/png": "[encoded data removed]"
          },
          "metadata": {
            "needs_background": "light"
          }
        }
      ],
      "source": [
        "from sklearn.metrics import accuracy_score\n",
        "def custom_learning_curve(x_train, y_train,\n",
        "                          x_val, y_val, x_test, y_test,\n",
        "                          n_splits):\n",
        "  \n",
        "  split_size = int(len(x_train) / n_splits)\n",
        "  x_splits = np.split(x_train, n_splits) # must be equal division\n",
        "  y_splits = np.split(y_train, n_splits)\n",
        "  train_accuracies = list()\n",
        "  val_accuracies = list()\n",
        "  test_accuracies = list()\n",
        "  curr_x = x_splits[0]\n",
        "  print(curr_x.shape)\n",
        "  curr_y = y_splits[0]\n",
        "  print(curr_y.shape)\n",
        "  lsga =  LogisticRegressionSGA()\n",
        "  lsga.fit(curr_x, curr_y)\n",
        "  train_accuracies.append(accuracy_score(curr_y, \n",
        "                                         lsga.predict(curr_x)))\n",
        "  \n",
        "  val_accuracies.append(accuracy_score(y_val, lsga.predict(x_val)))\n",
        "  test_accuracies.append(accuracy_score(y_test, lsga.predict(x_test)))\n",
        "\n",
        "  for i in range(1, len(x_splits)):\n",
        "    lsga =  LogisticRegressionSGA()\n",
        "    curr_x = np.concatenate((curr_x, x_splits[i]), axis=0)\n",
        "    print(curr_x.shape)\n",
        "    curr_y = np.concatenate((curr_y, y_splits[i]), axis=0)\n",
        "    print(curr_y.shape)\n",
        "    lsga.fit(curr_x, curr_y)\n",
        "\n",
        "    train_accuracies.append(accuracy_score(curr_y, \n",
        "                                           lsga.predict(curr_x)))\n",
        "    \n",
        "    val_accuracies.append(accuracy_score(y_val, lsga.predict(x_val)))\n",
        "\n",
        "    test_accuracies.append(accuracy_score(y_test, lsga.predict(x_test)))\n",
        "\n",
        "  plt.plot(list(range(split_size, len(x_train) + split_size, \n",
        "                      split_size)), train_accuracies, 'o-', color=\"b\",\n",
        "             label=\"Training accuracy\")\n",
        "  plt.plot(list(range(split_size, len(x_train) + split_size, \n",
        "                      split_size)), val_accuracies, 'o-', color=\"green\",\n",
        "           label=\"Validation accuracy\")\n",
        "  plt.plot(list(range(split_size, len(x_train) + split_size, \n",
        "                      split_size)), test_accuracies, 'o-', color=\"red\",\n",
        "           label=\"Testing accuracy\")\n",
        "  plt.legend(loc=\"lower right\")\n",
        "  plt.show()\n",
        "\n",
        "custom_learning_curve(x_train=x_train_binary , y_train=y_train,\n",
        "                      x_val=x_dev_binary, y_val=y_dev, x_test=x_test_binary,\n",
        "                      y_test=y_test, n_splits=5)"
      ]
    },
    {
      "cell_type": "code",
      "execution_count": 15,
      "metadata": {
        "id": "h2c27HTaaMNs",
        "colab": {
          "base_uri": "https://localhost:8080/"
        },
        "outputId": "184f91ff-2804-445d-c09e-7f4231e2bd41"
      },
      "outputs": [
        {
          "output_type": "stream",
          "name": "stdout",
          "text": [
            "              precision    recall  f1-score   support\n",
            "\n",
            "           0       0.79      0.80      0.80     12500\n",
            "           1       0.80      0.79      0.80     12500\n",
            "\n",
            "    accuracy                           0.80     25000\n",
            "   macro avg       0.80      0.80      0.80     25000\n",
            "weighted avg       0.80      0.80      0.80     25000\n",
            "\n"
          ]
        }
      ],
      "source": [
        "lsga = LogisticRegressionSGA()\n",
        "lsga.fit(x_train_binary, y_train)\n",
        "from sklearn.metrics import classification_report\n",
        "print(classification_report(y_test, lsga.predict(x_test_binary)))"
      ]
    },
    {
      "cell_type": "markdown",
      "source": [
        "##logistic Sklearn"
      ],
      "metadata": {
        "id": "yNDEni63wGfQ"
      }
    },
    {
      "cell_type": "code",
      "source": [
        "from sklearn.linear_model import LogisticRegression\n",
        "\n",
        "log = LogisticRegression(solver='saga')\n",
        "log.fit(x_train_binary, y_train)\n",
        "\n",
        "print(classification_report(y_test, log.predict(x_test_binary)))"
      ],
      "metadata": {
        "id": "r-8igRI-wFZV",
        "colab": {
          "base_uri": "https://localhost:8080/"
        },
        "outputId": "83c462da-1162-4474-a595-d977ddeb8de5"
      },
      "execution_count": 16,
      "outputs": [
        {
          "output_type": "stream",
          "name": "stderr",
          "text": [
            "/usr/local/lib/python3.8/dist-packages/sklearn/linear_model/_sag.py:352: ConvergenceWarning: The max_iter was reached which means the coef_ did not converge\n",
            "  warnings.warn(\n"
          ]
        },
        {
          "output_type": "stream",
          "name": "stdout",
          "text": [
            "              precision    recall  f1-score   support\n",
            "\n",
            "           0       0.86      0.86      0.86     12500\n",
            "           1       0.86      0.86      0.86     12500\n",
            "\n",
            "    accuracy                           0.86     25000\n",
            "   macro avg       0.86      0.86      0.86     25000\n",
            "weighted avg       0.86      0.86      0.86     25000\n",
            "\n"
          ]
        }
      ]
    },
    {
      "cell_type": "code",
      "execution_count": 17,
      "metadata": {
        "id": "hHMix-OSx1zz",
        "colab": {
          "base_uri": "https://localhost:8080/",
          "height": 612
        },
        "outputId": "6e42f0cf-ffff-4fdb-a7a3-80170d02fcae"
      },
      "outputs": [
        {
          "output_type": "stream",
          "name": "stdout",
          "text": [
            "(3500, 3998)\n",
            "(3500,)\n"
          ]
        },
        {
          "output_type": "stream",
          "name": "stderr",
          "text": [
            "/usr/local/lib/python3.8/dist-packages/sklearn/linear_model/_sag.py:352: ConvergenceWarning: The max_iter was reached which means the coef_ did not converge\n",
            "  warnings.warn(\n"
          ]
        },
        {
          "output_type": "stream",
          "name": "stdout",
          "text": [
            "(7000, 3998)\n",
            "(7000,)\n"
          ]
        },
        {
          "output_type": "stream",
          "name": "stderr",
          "text": [
            "/usr/local/lib/python3.8/dist-packages/sklearn/linear_model/_sag.py:352: ConvergenceWarning: The max_iter was reached which means the coef_ did not converge\n",
            "  warnings.warn(\n"
          ]
        },
        {
          "output_type": "stream",
          "name": "stdout",
          "text": [
            "(10500, 3998)\n",
            "(10500,)\n"
          ]
        },
        {
          "output_type": "stream",
          "name": "stderr",
          "text": [
            "/usr/local/lib/python3.8/dist-packages/sklearn/linear_model/_sag.py:352: ConvergenceWarning: The max_iter was reached which means the coef_ did not converge\n",
            "  warnings.warn(\n"
          ]
        },
        {
          "output_type": "stream",
          "name": "stdout",
          "text": [
            "(14000, 3998)\n",
            "(14000,)\n"
          ]
        },
        {
          "output_type": "stream",
          "name": "stderr",
          "text": [
            "/usr/local/lib/python3.8/dist-packages/sklearn/linear_model/_sag.py:352: ConvergenceWarning: The max_iter was reached which means the coef_ did not converge\n",
            "  warnings.warn(\n"
          ]
        },
        {
          "output_type": "stream",
          "name": "stdout",
          "text": [
            "(17500, 3998)\n",
            "(17500,)\n"
          ]
        },
        {
          "output_type": "stream",
          "name": "stderr",
          "text": [
            "/usr/local/lib/python3.8/dist-packages/sklearn/linear_model/_sag.py:352: ConvergenceWarning: The max_iter was reached which means the coef_ did not converge\n",
            "  warnings.warn(\n"
          ]
        },
        {
          "output_type": "display_data",
          "data": {
            "text/plain": [
              "<Figure size 432x288 with 1 Axes>"
            ],
            "image/png": "[encoded data removed]"
          },
          "metadata": {
            "needs_background": "light"
          }
        }
      ],
      "source": [
        "from sklearn.metrics import accuracy_score\n",
        "def custom_learning_curve(x_train, y_train,\n",
        "                          x_val, y_val, x_test, y_test,\n",
        "                          n_splits):\n",
        "  \n",
        "  split_size = int(len(x_train) / n_splits)\n",
        "  x_splits = np.split(x_train, n_splits) # must be equal division\n",
        "  y_splits = np.split(y_train, n_splits)\n",
        "  train_accuracies = list()\n",
        "  val_accuracies = list()\n",
        "  test_accuracies = list()\n",
        "  curr_x = x_splits[0]\n",
        "  print(curr_x.shape)\n",
        "  curr_y = y_splits[0]\n",
        "  print(curr_y.shape)\n",
        "  log = LogisticRegression(solver='saga')\n",
        "  log.fit(curr_x, curr_y)\n",
        "  train_accuracies.append(accuracy_score(curr_y, \n",
        "                                         log.predict(curr_x)))\n",
        "  \n",
        "  val_accuracies.append(accuracy_score(y_val, log.predict(x_val)))\n",
        "  test_accuracies.append(accuracy_score(y_test, log.predict(x_test)))\n",
        "\n",
        "  for i in range(1, len(x_splits)):\n",
        "    log = LogisticRegression(solver='saga')\n",
        "    curr_x = np.concatenate((curr_x, x_splits[i]), axis=0)\n",
        "    print(curr_x.shape)\n",
        "    curr_y = np.concatenate((curr_y, y_splits[i]), axis=0)\n",
        "    print(curr_y.shape)\n",
        "    log.fit(curr_x, curr_y)\n",
        "\n",
        "    train_accuracies.append(accuracy_score(curr_y, \n",
        "                                           log.predict(curr_x)))\n",
        "    \n",
        "    val_accuracies.append(accuracy_score(y_val, log.predict(x_val)))\n",
        "\n",
        "    test_accuracies.append(accuracy_score(y_test, log.predict(x_test)))\n",
        "\n",
        "  plt.plot(list(range(split_size, len(x_train) + split_size, \n",
        "                      split_size)), train_accuracies, 'o-', color=\"b\",\n",
        "             label=\"Training accuracy\")\n",
        "  plt.plot(list(range(split_size, len(x_train) + split_size, \n",
        "                      split_size)), val_accuracies, 'o-', color=\"green\",\n",
        "           label=\"Validation accuracy\")\n",
        "  plt.plot(list(range(split_size, len(x_train) + split_size, \n",
        "                      split_size)), test_accuracies, 'o-', color=\"red\",\n",
        "           label=\"Testing accuracy\")\n",
        "  plt.legend(loc=\"lower right\")\n",
        "  plt.show()\n",
        "\n",
        "custom_learning_curve(x_train=x_train_binary , y_train=y_train,\n",
        "                      x_val=x_dev_binary, y_val=y_dev, x_test=x_test_binary,\n",
        "                      y_test=y_test, n_splits=5)"
      ]
    },
    {
      "cell_type": "markdown",
      "source": [
        "## Part C"
      ],
      "metadata": {
        "id": "aVY3xfTJE8of"
      }
    },
    {
      "cell_type": "code",
      "source": [
        "from tensorflow.keras.utils import plot_model\n",
        "from IPython.display import Image \n",
        "\n",
        "imdb_mlp = tf.keras.models.Sequential([\n",
        "      tf.keras.layers.Input(shape=(3998,)),\n",
        "      tf.keras.layers.Dense(units=256, activation='relu'),\n",
        "      tf.keras.layers.Dropout(rate=0.2),\n",
        "      tf.keras.layers.Dense(units=128, activation='relu'),\n",
        "      tf.keras.layers.Dense(units=64, activation='relu'),\n",
        "      tf.keras.layers.Dropout(rate=0.5),\n",
        "      tf.keras.layers.Dense(units=1, activation='sigmoid')\n",
        "])\n",
        "\n",
        "plot_model(imdb_mlp, to_file='model.png', show_shapes=True)\n",
        "Image('model.png')"
      ],
      "metadata": {
        "id": "vW1JmyBzFdTW",
        "colab": {
          "base_uri": "https://localhost:8080/",
          "height": 754
        },
        "outputId": "080cb00c-fecf-4333-8429-7f00fda8f365"
      },
      "execution_count": 52,
      "outputs": [
        {
          "output_type": "execute_result",
          "data": {
            "image/png": "[encoded data removed]",
            "text/plain": [
              "<IPython.core.display.Image object>"
            ]
          },
          "metadata": {},
          "execution_count": 52
        }
      ]
    },
    {
      "cell_type": "code",
      "source": [
        "imdb_mlp.compile(loss=tf.keras.losses.BinaryCrossentropy(), \n",
        "                  optimizer=tf.keras.optimizers.SGD(),\n",
        "                  metrics=['binary_accuracy'])\n",
        "imdb_mlp.fit(x=x_train_binary, y=y_train,\n",
        "             epochs=10, verbose=1, batch_size=32)"
      ],
      "metadata": {
        "id": "7VLuHjcEFoVN",
        "colab": {
          "base_uri": "https://localhost:8080/"
        },
        "outputId": "94820afe-e72b-4043-e735-9a6aaa36cb4d"
      },
      "execution_count": 53,
      "outputs": [
        {
          "output_type": "stream",
          "name": "stdout",
          "text": [
            "Epoch 1/10\n",
            "547/547 [==============================] - 5s 9ms/step - loss: 0.6764 - binary_accuracy: 0.5769\n",
            "Epoch 2/10\n",
            "547/547 [==============================] - 4s 8ms/step - loss: 0.5257 - binary_accuracy: 0.7584\n",
            "Epoch 3/10\n",
            "547/547 [==============================] - 5s 9ms/step - loss: 0.3975 - binary_accuracy: 0.8308\n",
            "Epoch 4/10\n",
            "547/547 [==============================] - 4s 8ms/step - loss: 0.3344 - binary_accuracy: 0.8641\n",
            "Epoch 5/10\n",
            "547/547 [==============================] - 4s 8ms/step - loss: 0.2971 - binary_accuracy: 0.8808\n",
            "Epoch 6/10\n",
            "547/547 [==============================] - 4s 8ms/step - loss: 0.2688 - binary_accuracy: 0.8948\n",
            "Epoch 7/10\n",
            "547/547 [==============================] - 4s 8ms/step - loss: 0.2447 - binary_accuracy: 0.9058\n",
            "Epoch 8/10\n",
            "547/547 [==============================] - 4s 8ms/step - loss: 0.2264 - binary_accuracy: 0.9158\n",
            "Epoch 9/10\n",
            "547/547 [==============================] - 4s 8ms/step - loss: 0.2021 - binary_accuracy: 0.9267\n",
            "Epoch 10/10\n",
            "547/547 [==============================] - 4s 8ms/step - loss: 0.1788 - binary_accuracy: 0.9357\n"
          ]
        },
        {
          "output_type": "execute_result",
          "data": {
            "text/plain": [
              "<keras.callbacks.History at 0x7f5be5acdd90>"
            ]
          },
          "metadata": {},
          "execution_count": 53
        }
      ]
    },
    {
      "cell_type": "code",
      "source": [
        "print(imdb_mlp.evaluate(x_test_binary, y_test))"
      ],
      "metadata": {
        "id": "ql4rEEnLFrjK",
        "colab": {
          "base_uri": "https://localhost:8080/"
        },
        "outputId": "cdfa0d8f-ef0c-427a-b9b3-90384112c4d1"
      },
      "execution_count": 54,
      "outputs": [
        {
          "output_type": "stream",
          "name": "stdout",
          "text": [
            "782/782 [==============================] - 4s 5ms/step - loss: 0.3149 - binary_accuracy: 0.8755\n",
            "[0.3148704767227173, 0.8754799962043762]\n"
          ]
        }
      ]
    },
    {
      "cell_type": "code",
      "source": [
        "imdb_mlp.compile(loss=tf.keras.losses.BinaryCrossentropy(), \n",
        "                  metrics=['accuracy'], optimizer=tf.keras.optimizers.SGD())\n"
      ],
      "metadata": {
        "id": "Kq-RO5EuOuBT"
      },
      "execution_count": 60,
      "outputs": []
    },
    {
      "cell_type": "code",
      "source": [
        "mlp_history = imdb_mlp.fit(x_train_binary, y_train, batch_size=32, \n",
        "                                  epochs=10, validation_split=0.2)"
      ],
      "metadata": {
        "colab": {
          "base_uri": "https://localhost:8080/"
        },
        "id": "sQT0zt_xOybL",
        "outputId": "57f89477-66aa-4369-f369-7af8840dcfb5"
      },
      "execution_count": 64,
      "outputs": [
        {
          "output_type": "stream",
          "name": "stdout",
          "text": [
            "Epoch 1/10\n",
            "438/438 [==============================] - 4s 9ms/step - loss: 0.1008 - accuracy: 0.9727 - val_loss: 0.2754 - val_accuracy: 0.8994\n",
            "Epoch 2/10\n",
            "438/438 [==============================] - 4s 9ms/step - loss: 0.0864 - accuracy: 0.9754 - val_loss: 0.2869 - val_accuracy: 0.8963\n",
            "Epoch 3/10\n",
            "438/438 [==============================] - 4s 9ms/step - loss: 0.0764 - accuracy: 0.9814 - val_loss: 0.3050 - val_accuracy: 0.9049\n",
            "Epoch 4/10\n",
            "438/438 [==============================] - 4s 9ms/step - loss: 0.0647 - accuracy: 0.9841 - val_loss: 0.3159 - val_accuracy: 0.9011\n",
            "Epoch 5/10\n",
            "438/438 [==============================] - 4s 9ms/step - loss: 0.0584 - accuracy: 0.9863 - val_loss: 0.3264 - val_accuracy: 0.9009\n",
            "Epoch 6/10\n",
            "438/438 [==============================] - 4s 9ms/step - loss: 0.0547 - accuracy: 0.9866 - val_loss: 0.3573 - val_accuracy: 0.9046\n",
            "Epoch 7/10\n",
            "438/438 [==============================] - 4s 9ms/step - loss: 0.0454 - accuracy: 0.9896 - val_loss: 0.4040 - val_accuracy: 0.8963\n",
            "Epoch 8/10\n",
            "438/438 [==============================] - 4s 9ms/step - loss: 0.0383 - accuracy: 0.9924 - val_loss: 0.4058 - val_accuracy: 0.8969\n",
            "Epoch 9/10\n",
            "438/438 [==============================] - 4s 9ms/step - loss: 0.0341 - accuracy: 0.9938 - val_loss: 0.6614 - val_accuracy: 0.8686\n",
            "Epoch 10/10\n",
            "438/438 [==============================] - 4s 9ms/step - loss: 0.0315 - accuracy: 0.9951 - val_loss: 0.4337 - val_accuracy: 0.8980\n"
          ]
        }
      ]
    },
    {
      "cell_type": "code",
      "source": [
        "def plot(his, kind):\n",
        "  train = his.history[kind]\n",
        "  val = his.history[\"val_\"+  kind]\n",
        "  epochs = range(1, len(train)+1)\n",
        "  plt.figure(figsize=(12,9))\n",
        "  plt.plot(epochs, train, 'b', label='Training ' + kind)\n",
        "  plt.plot(epochs, val, 'orange', label='Validation ' + kind)\n",
        "  plt.title('Training and validation ' + kind) \n",
        "  plt.xlabel('Epochs')\n",
        "  plt.ylabel(kind)\n",
        "  # x1, x2, y1, y2 = plt.axis()  \n",
        "  # plt.axis((x1, x2, 0, 0.2))\n",
        "  plt.legend()\n",
        "  plt.show()"
      ],
      "metadata": {
        "id": "wv8opa1rmPLP"
      },
      "execution_count": 65,
      "outputs": []
    },
    {
      "cell_type": "code",
      "source": [
        "plot(mlp_history, 'loss')"
      ],
      "metadata": {
        "colab": {
          "base_uri": "https://localhost:8080/",
          "height": 567
        },
        "id": "9AtGt4h3my46",
        "outputId": "1ca6fa33-529a-4ad1-99ac-79128139b4fc"
      },
      "execution_count": 66,
      "outputs": [
        {
          "output_type": "display_data",
          "data": {
            "text/plain": [
              "<Figure size 864x648 with 1 Axes>"
            ],
            "image/png": "[encoded data removed]"
          },
          "metadata": {
            "needs_background": "light"
          }
        }
      ]
    },
    {
      "cell_type": "code",
      "source": [
        "plot(mlp_history, 'accuracy')"
      ],
      "metadata": {
        "colab": {
          "base_uri": "https://localhost:8080/",
          "height": 567
        },
        "id": "GNPRLTxCnJF3",
        "outputId": "ec5465a6-76b9-4f0b-dd94-387378066d87"
      },
      "execution_count": 67,
      "outputs": [
        {
          "output_type": "display_data",
          "data": {
            "text/plain": [
              "<Figure size 864x648 with 1 Axes>"
            ],
            "image/png": "[encoded data removed]"
          },
          "metadata": {
            "needs_background": "light"
          }
        }
      ]
    },
    {
      "cell_type": "code",
      "source": [
        "y_pred = imdb_mlp.predict(x_test_binary)\n",
        "\n",
        "\n",
        "print(classification_report(y_test, y_pred.round()))"
      ],
      "metadata": {
        "colab": {
          "base_uri": "https://localhost:8080/"
        },
        "id": "44mJlyJFkUlB",
        "outputId": "113921d4-7fad-47e5-a135-9781263c83ba"
      },
      "execution_count": 68,
      "outputs": [
        {
          "output_type": "stream",
          "name": "stdout",
          "text": [
            "782/782 [==============================] - 3s 4ms/step\n",
            "              precision    recall  f1-score   support\n",
            "\n",
            "           0       0.88      0.84      0.86     12500\n",
            "           1       0.84      0.89      0.87     12500\n",
            "\n",
            "    accuracy                           0.86     25000\n",
            "   macro avg       0.86      0.86      0.86     25000\n",
            "weighted avg       0.86      0.86      0.86     25000\n",
            "\n"
          ]
        }
      ]
    }
  ],
  "metadata": {
    "colab": {
      "provenance": []
    },
    "kernelspec": {
      "display_name": "Python 3",
      "name": "python3"
    },
    "language_info": {
      "name": "python"
    }
  },
  "nbformat": 4,
  "nbformat_minor": 0
}